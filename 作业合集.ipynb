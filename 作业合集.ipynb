{
 "cells": [
  {
   "cell_type": "code",
   "execution_count": 1,
   "metadata": {},
   "outputs": [
    {
     "name": "stdout",
     "output_type": "stream",
     "text": [
      "    1.00     5.00    12.00    22.00    35.00    51.00    70.00    92.00   117.00   145.00 \n",
      "  176.00   210.00   247.00   287.00   330.00   376.00   425.00   477.00   532.00   590.00 \n",
      "  651.00   715.00   782.00   852.00   925.00  1001.00  1080.00  1162.00  1247.00  1335.00 \n",
      " 1426.00  1520.00  1617.00  1717.00  1820.00  1926.00  2035.00  2147.00  2262.00  2380.00 \n",
      " 2501.00  2625.00  2752.00  2882.00  3015.00  3151.00  3290.00  3432.00  3577.00  3725.00 \n",
      " 3876.00  4030.00  4187.00  4347.00  4510.00  4676.00  4845.00  5017.00  5192.00  5370.00 \n",
      " 5551.00  5735.00  5922.00  6112.00  6305.00  6501.00  6700.00  6902.00  7107.00  7315.00 \n",
      " 7526.00  7740.00  7957.00  8177.00  8400.00  8626.00  8855.00  9087.00  9322.00  9560.00 \n",
      " 9801.00 10045.00 10292.00 10542.00 10795.00 11051.00 11310.00 11572.00 11837.00 12105.00 \n",
      "12376.00 12650.00 12927.00 13207.00 13490.00 13776.00 14065.00 14357.00 14652.00 14950.00 \n"
     ]
    }
   ],
   "source": [
    "def getPentalNumber(n):   #1、五角数\n",
    "    num=0\n",
    "    for i in range(1,n+1):\n",
    "\n",
    "        f = i * (3 * i- 1) / 2\n",
    "        print('%8.2f'%f,end=' ')\n",
    "        num+=1\n",
    "        if num%10==0:\n",
    "            print()\n",
    "\n",
    "def Start():\n",
    "    \n",
    "    getPentalNumber(100)\n",
    "Start()"
   ]
  },
  {
   "cell_type": "code",
   "execution_count": 2,
   "metadata": {},
   "outputs": [
    {
     "name": "stdout",
     "output_type": "stream",
     "text": [
      "12\n"
     ]
    }
   ],
   "source": [
    "def sumDigits(n):       #2、计算整数各个数的和\n",
    "    #str 将括号中的内容强制转换为字符串\n",
    "    str_ = str(n)\n",
    "    int_ = 0\n",
    "    for i in str_:\n",
    "        int_ += int(i)    #int_ = int_ +int(i)\n",
    "    print(int_)\n",
    "    \n",
    "    \n",
    "sumDigits(345)    \n",
    "   "
   ]
  },
  {
   "cell_type": "code",
   "execution_count": 3,
   "metadata": {},
   "outputs": [
    {
     "name": "stdout",
     "output_type": "stream",
     "text": [
      "[4, 5, 6]\n"
     ]
    }
   ],
   "source": [
    "def displaySortedNumbers(num1,num2,num3):    #3、升序\n",
    "    res = [num1,num2,num3]\n",
    "    res.sort()\n",
    "    print(res)\n",
    "\n",
    "displaySortedNumbers(6,5,4)\n"
   ]
  },
  {
   "cell_type": "code",
   "execution_count": 4,
   "metadata": {},
   "outputs": [
    {
     "name": "stdout",
     "output_type": "stream",
     "text": [
      "本地时间为 : Fri Aug  9 10:34:18 2019\n"
     ]
    }
   ],
   "source": [
    "import time                   #4、时间\n",
    "\n",
    "localtime = time.asctime(time.localtime(time.time()))\n",
    "print(\"本地时间为 :\", localtime)"
   ]
  },
  {
   "cell_type": "code",
   "execution_count": null,
   "metadata": {},
   "outputs": [],
   "source": [
    "def printChars(ch1, ch2,numberPerLine):  #5、打印字符\n",
    "    # print(ord(ch2))\n",
    "    # print(ord(ch1))\n",
    "    num=ord(ch2)-ord(ch1)+1\n",
    "    num_2=int(numberPerLine)\n",
    "    # print(num_2)\n",
    "    num_1=0\n",
    "    for i in range(ord(ch1),ord(ch2)+1):\n",
    "        print(chr(i),end=\" \")\n",
    "        num_1+=1\n",
    "        if num_1%num_2==0:\n",
    "            print()\n",
    "def start():\n",
    "    ch1, ch2,numberPerLine=map(str,input().split(','))\n",
    "    printChars(ch1, ch2,numberPerLine)\n",
    "\n",
    "start()"
   ]
  },
  {
   "cell_type": "code",
   "execution_count": null,
   "metadata": {},
   "outputs": [],
   "source": [
    "from datetime import date          # 6返回一年的天数\n",
    "\n",
    "lastDate= date(2019,1,15)\n",
    "firstDate = date(2010,5,31)\n",
    "\n",
    "delta = lastDate - firstDate\n",
    "print('There are {} days between {} and {}'.format(delta.days, firstDate, lastDate))\n"
   ]
  },
  {
   "cell_type": "code",
   "execution_count": null,
   "metadata": {},
   "outputs": [],
   "source": [
    "import math                         #7、显示角\n",
    "def distance(x1,y1,x2,y2):\n",
    "    a=(x1-x2)**2\n",
    "    b=(y1-y2)**2\n",
    "    c=math.sqrt(a+b)\n",
    "    print(c)\n",
    "def start():\n",
    "    x1,y1,x2,y2=map(float,input().split(','))\n",
    "    distance(x1,y1,x2,y2)\n",
    "start()"
   ]
  },
  {
   "cell_type": "code",
   "execution_count": null,
   "metadata": {},
   "outputs": [],
   "source": [
    "def Mersenne_prime(P):     #8、梅森素数\n",
    "    print('P值    梅森素数（P^2-1）')\n",
    "    for i in range(1,P+1):\n",
    "        Number1=2**i-1\n",
    "        Number2=0\n",
    "        for j in range(2,Number1):\n",
    "            if Number1%j==0:\n",
    "                Number2+=1\n",
    "        if Number2==0:\n",
    "            print('%3d %10d'%(i,Number1))\n",
    "def start():\n",
    "    P=int(input())\n",
    "    Mersenne_prime(P)\n",
    "Start()"
   ]
  },
  {
   "cell_type": "code",
   "execution_count": null,
   "metadata": {},
   "outputs": [],
   "source": [
    "def futureIn(money,rate,year):    #9、财务程序，计算未来投资值。\n",
    "    for i in range(1,year*12+1):\n",
    "        money=float(1+rate/100/12)*money\n",
    "        if i%12==0:\n",
    "            print('%9d %10.2f'%((i/12),money))\n",
    "\n",
    "def start():\n",
    "    money,rate,year=map(int,input().split(','))\n",
    "    futureIn(money,rate,year)\n",
    "    \n",
    "start()"
   ]
  },
  {
   "cell_type": "code",
   "execution_count": null,
   "metadata": {},
   "outputs": [],
   "source": [
    "def Roll_dice():            #10、掷骰子\n",
    "    import random\n",
    "    dice1=random.randint(1,6)\n",
    "    dice2=random.randint(1,6)\n",
    "    print('Dice1:%d    Dice2:%d'%(dice1,dice2))\n",
    "    sum = dice1+dice2\n",
    "    return sum\n",
    "def Judge():\n",
    "    sum=Roll_dice()\n",
    "    print('点数：%d'%sum)\n",
    "    a=(2,3,12)\n",
    "    b=(7,11)\n",
    "    c=(4,5,6,8,9,10)\n",
    "    if sum in a:\n",
    "        print('你输了')\n",
    "    if sum in b:\n",
    "        print('你赢了')\n",
    "    if sum in c:\n",
    "        Judge1(sum)\n",
    "def Judge1(sum):\n",
    "    sum_1=sum\n",
    "    while True:\n",
    "        sum=Roll_dice()\n",
    "        print('点数：%d'%sum)\n",
    "        if sum==sum_1:\n",
    "            print('你赢了')\n",
    "            break\n",
    "        if sum==7:\n",
    "            print('你输了')\n",
    "            break\n",
    "def start():\n",
    "    Judge()\n",
    "start()"
   ]
  },
  {
   "cell_type": "code",
   "execution_count": null,
   "metadata": {},
   "outputs": [],
   "source": [
    "# 第二次作业第一题 矩形\n",
    "class juxing(object):\n",
    "    def __init__(self,width,height):\n",
    "        self.width=width\n",
    "        self.height=height\n",
    "        print('宽是：%.2f,高是：%.2f'% (width,height))\n",
    "    def getArea(self):\n",
    "        return self.width*self.height\n",
    "    def getPerimeter(self):\n",
    "        return 2*(self.width+self.height)\n",
    "if __name__ == \"__main__\":\n",
    "    width=float(input('请输入宽：'))\n",
    "    height=float(input('请输入高：'))\n",
    "    rs=juxing(width,height)\n",
    "    print('面积是：%.2f'% rs.getArea())\n",
    "    print('周长是：%.2f'% rs.getPerimeter())"
   ]
  },
  {
   "cell_type": "code",
   "execution_count": null,
   "metadata": {},
   "outputs": [],
   "source": [
    "# 第二次作业第四题\n",
    "class RegularPolygon(object):\n",
    "    def __init__(self,n=3,side=1,x=0,y=0):\n",
    "        self.__n=int(n)\n",
    "        self.__side=float(side)\n",
    "        self.__x=float(x)\n",
    "        self.__y=float(y)\n",
    "    def getPerimetetr(self):\n",
    "        print('周长是:%.4f'% (self.__n*self.__side )) \n",
    "    def getArea(self):\n",
    "        import math\n",
    "        self.s=self.__n*(self.__side**2)/4*math.tan(math.pi/self.__n)\n",
    "        print('面积%.4f'% self.s)\n",
    "if __name__ == \"__main__\":\n",
    "    n=int(input('请输入边数：'))\n",
    "    side=float(input('请输入边长：'))\n",
    "    x=float(input('请输入x轴坐标：'))\n",
    "    y=float(input('请输入y轴坐标：'))\n",
    "    r=RegularPolygon(n,side,x,y)\n",
    "    r.getPerimetetr()\n",
    "    r.getArea()"
   ]
  },
  {
   "cell_type": "code",
   "execution_count": null,
   "metadata": {},
   "outputs": [],
   "source": []
  }
 ],
 "metadata": {
  "kernelspec": {
   "display_name": "Python 3",
   "language": "python",
   "name": "python3"
  },
  "language_info": {
   "codemirror_mode": {
    "name": "ipython",
    "version": 3
   },
   "file_extension": ".py",
   "mimetype": "text/x-python",
   "name": "python",
   "nbconvert_exporter": "python",
   "pygments_lexer": "ipython3",
   "version": "3.6.4"
  }
 },
 "nbformat": 4,
 "nbformat_minor": 2
}
